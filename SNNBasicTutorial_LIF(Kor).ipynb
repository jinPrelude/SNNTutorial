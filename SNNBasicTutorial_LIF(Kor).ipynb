{
  "nbformat": 4,
  "nbformat_minor": 0,
  "metadata": {
    "colab": {
      "name": "SNNBasicTutorial.ipynb",
      "provenance": [],
      "collapsed_sections": []
    },
    "kernelspec": {
      "name": "python3",
      "display_name": "Python 3"
    },
    "language_info": {
      "name": "python"
    }
  },
  "cells": [
    {
      "cell_type": "markdown",
      "source": [
        "# Leaky Integrate and Fire(LIF) 모델을 구현해보자\n",
        "> 본 노트북은 Euijin's blog의 [SNN Basic Tutorial](https://jinprelude.github.io/categories/snn-basic-tutorial/) 시리즈 중 LIF 모델 구현을 다룹니다. [SNN Basic Tutorial](https://jinprelude.github.io/categories/snn-basic-tutorial/)를 먼저 읽고 오시면 더욱 수월한 이해가 가능합니다.\n",
        "\n",
        "코드의 흐름은 다음과 같습니다:\n",
        "\n",
        "\n",
        "\n",
        "1.   뉴런 클래스 생성\n",
        "2.   main 함수 생성\n",
        "3.   main 함수에서 뉴런 클래스 인스턴스 생성\n",
        "4.   n초의 시간동안 뉴런에 전류를 가하고 매 순간마다 뉴런의 membrane potential 기록\n",
        "5.   시간에 따른 membrane potential을 그래프로 시각화하여 출력\n",
        "\n",
        "먼저 뉴런 클래스를 생성하겠습니다.\n",
        "\n",
        "\n",
        "\n"
      ],
      "metadata": {
        "id": "cxIU48RZcDxl"
      }
    },
    {
      "cell_type": "markdown",
      "source": [
        "# 뉴런 클래스 만들기\n",
        "LIF의 action potential 공식은 다음과 같습니다:\n",
        "$$ \t\\tau_{m}\\frac{du}{dt}=−[u(t)−u_{rest}]+RI(t)$$\n",
        "식에서:\n",
        "- $\\tau_m$ : 뉴런의 시정수(Time constant)를 나타냅니다. 코드에서는 `self.tau` 입니다.\n",
        "- $\\frac{du}{dt}$ : membrane potential의 순간변화량을 나타냅니다.\n",
        "- $u(t)$ : 시간 $t$ 에서의 membrane potential을 나타냅니다. 코드에서는 `self.membrane_potential` 입니다.\n",
        "- $u_{rest}$: membrane의 resting voltage를 뜻합니다. 코드에서는 `self.mv_rest` 입니다.\n",
        "- $R$: membrane의 저항을 뜻합니다. 코드에서는 저항의 역수인 컨덕턴스로 쓰이며 `self.g` 입니다.\n",
        "- $I(t)$: 시간 $t$ 에서의 입력 전류를 뜻합니다. 코드에서는 `input_current_pa` 입니다.\n",
        "\n",
        "위 식을  다음과 같이 변형하여 membrane potential의 순간변화량을 구할 수 있습니다:\n",
        "\n",
        "$$ \\frac{du}{dt}=\\frac{−[u(t)−u_{rest}]+RI(t)}{\\tau_{m}}$$\n",
        "\n",
        "LIF 모델을 구현하는데에 필요한 변수들은 다음과 같습니다:\n",
        "\n",
        "\n",
        "*   Membrane potential의 resting voltage [$-65mV$]\n",
        "*   Membrane potential의 threshold voltage [$-55mV$]\n",
        "*   Membrane potential의 reset voltage [$-70mV$]\n",
        "*   시정수 $\\tau_{m}$ [$10$]\n",
        "*   저항 $R$ [0.1]\n",
        "\n",
        "중괄호에 적힌 수치들은 아래 코드에서 기본값으로 쓰일 수치입니다.\n",
        "\n",
        "주석과 함께 아래 코드를 분석해보겠습니다."
      ],
      "metadata": {
        "id": "TEnlTLEia7-p"
      }
    },
    {
      "cell_type": "code",
      "execution_count": null,
      "metadata": {
        "id": "HexmbYKyFfXA"
      },
      "outputs": [],
      "source": [
        "import matplotlib.pyplot as plt"
      ]
    },
    {
      "cell_type": "code",
      "source": [
        "class LifNeuron:\n",
        "  def __init__(self, mv_reset = -70, mv_threshold  = -55, mv_rest = -65, tau = 10, g = 10):\n",
        "    self.mv_reset = mv_reset  # resting voltage, mV\n",
        "    self.mv_threshold = mv_threshold  # threshold voltage, mV\n",
        "    self.mv_rest = mv_rest  # rest voltage, mV\n",
        "    self.tau = tau  # tau\n",
        "    self.g = g  # conductance, nanosiemens, nS\n",
        "\n",
        "    self.membrane_potential = self.mv_reset # 현재의 membrane potential을 저장할 변수를 추가하고, rest voltage로 초기화한다.\n",
        "  \n",
        "  def step(self, input_current_pa = 0, dt = 0.001):\n",
        "    \"\"\"\n",
        "    delta t 의 크기와 delta t 동안 흐르는 전류의 양을 입력받고, 뉴런의 다양한 값들을 반환한다.\n",
        "    \n",
        "    Inputs\n",
        "    ------\n",
        "    input_current_pa : 주입되는 전류량. 단위는 pA(피코암페어)이다.\n",
        "    dt : delta t의 크기. 기본값은 millisecond인 0.001초이다.\n",
        "\n",
        "    Return\n",
        "    ------\n",
        "    infos [Dict]\n",
        "      - membrane_potential : 현재 membrane potential 값, mV.\n",
        "      - is_spike : 현재 뉴런의 action potential이 생성되었는지를 booloean 값으로 반환.\n",
        "\n",
        "    \"\"\"\n",
        "    is_spike = False   # \n",
        "    self.membrane_potential += (-(self.membrane_potential - self.mv_reset) + self.g * input_current_pa)* dt / self.tau\n",
        "    if self.membrane_potential >= self.mv_threshold :\n",
        "      is_spike = True\n",
        "      self.membrane_potential = self.mv_reset\n",
        "    infos = {\n",
        "        \"membrane_potential\": self.membrane_potential,\n",
        "        \"is_spike\": is_spike\n",
        "    }\n",
        "\n",
        "    return infos\n",
        "\n",
        "\n"
      ],
      "metadata": {
        "id": "WRMkVaCGGRdT"
      },
      "execution_count": null,
      "outputs": []
    },
    {
      "cell_type": "code",
      "source": [
        "\n",
        "\n",
        "if __name__==\"__main__\":\n",
        "  observe_ms = 10000 # millisecond, 10초동안 관찰\n",
        "\n",
        "  neuron1 = LifNeuron() # 뉴런 생성\n",
        "  membrane_potential_history = [] # 10초동안의 membrane potential을 기록할 리스트, y축\n",
        "  dt_history = [i/1000 for i in range(observe_ms)]  # 시간(초), x축\n",
        "  \n",
        "  for ms in range(observe_ms):\n",
        "    infos = neuron1.step(input_current_pa = 500, dt = 0.001)\n",
        "    membrane_potential_history.append(infos[\"membrane_potential\"])\n",
        "\n",
        "  plt.plot(dt_history, membrane_potential_history)\n",
        "  plt.show()\n"
      ],
      "metadata": {
        "colab": {
          "base_uri": "https://localhost:8080/",
          "height": 265
        },
        "id": "YkHTtDEuF4g3",
        "outputId": "46b001ec-3950-4122-def3-41bd55d609a0"
      },
      "execution_count": null,
      "outputs": [
        {
          "output_type": "display_data",
          "data": {
            "text/plain": [
              "<Figure size 432x288 with 1 Axes>"
            ],
            "image/png": "[encoded data removed]"
          },
          "metadata": {
            "needs_background": "light"
          }
        }
      ]
    },
    {
      "cell_type": "code",
      "source": [
        ""
      ],
      "metadata": {
        "id": "aFpJut22HQev"
      },
      "execution_count": null,
      "outputs": []
    }
  ]
}
